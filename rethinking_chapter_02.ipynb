{
  "nbformat": 4,
  "nbformat_minor": 0,
  "metadata": {
    "colab": {
      "name": "rethinking-chapter-02",
      "provenance": [],
      "collapsed_sections": [],
      "include_colab_link": true
    },
    "kernelspec": {
      "name": "python3",
      "display_name": "Python 3"
    },
    "language_info": {
      "name": "python"
    }
  },
  "cells": [
    {
      "cell_type": "markdown",
      "metadata": {
        "id": "view-in-github",
        "colab_type": "text"
      },
      "source": [
        "<a href=\"https://colab.research.google.com/github/peilles/peilles.github.io/blob/master/rethinking_chapter_02.ipynb\" target=\"_parent\"><img src=\"https://colab.research.google.com/assets/colab-badge.svg\" alt=\"Open In Colab\"/></a>"
      ]
    },
    {
      "cell_type": "code",
      "metadata": {
        "id": "-wDhntqLOxKe",
        "colab": {
          "base_uri": "https://localhost:8080/"
        },
        "outputId": "63947579-1c55-40e1-bdab-2770ef8bb498"
      },
      "source": [
        "\n",
        "%load_ext rpy2.ipython\n"
      ],
      "execution_count": null,
      "outputs": [
        {
          "output_type": "stream",
          "text": [
            "The rpy2.ipython extension is already loaded. To reload it, use:\n",
            "  %reload_ext rpy2.ipython\n"
          ],
          "name": "stdout"
        }
      ]
    },
    {
      "cell_type": "markdown",
      "metadata": {
        "id": "eaJcZOhveGO4"
      },
      "source": [
        "- McElreath (2020). Statistical Rethinking. CRC Press.\n",
        "- 2021-07-05\n",
        "\n",
        "\n",
        "## Chpater 2.\n",
        "\n",
        "성공률 $\\theta$인 실험을 $n$번 시행해서 $y$번 성공했을 때\n",
        "\n",
        "Prior:\n",
        "$$\n",
        "  \\theta \\sim \\textit{Beta}(\\alpha,\\beta)\n",
        "  $$\n",
        "\n",
        "\n",
        "Likelihood:\n",
        "\n",
        "$$\n",
        "y|\\theta \\sim \\textit{Binomial}(n, \\theta)\n",
        "$$\n",
        "\n",
        "Posterior:\n",
        "$$\n",
        "\\theta|y \\sim \\textit{Beta}(y+\\alpha, n-y + \\beta)\n",
        "$$\n",
        "\n",
        "Maximum A Poteriori Estimator:\n",
        "$$\n",
        "\\hat\\theta_\\text{MAP} = \\frac{y+\\alpha-1}{n+\\alpha+\\beta-2}\n",
        "$$"
      ]
    },
    {
      "cell_type": "code",
      "metadata": {
        "colab": {
          "base_uri": "https://localhost:8080/"
        },
        "id": "XMCUFa0gZz39",
        "outputId": "c0d145ed-30d9-4489-c653-c3866c242d84"
      },
      "source": [
        "%%R\n",
        "## prior: theta ~ Beta(alpha, beta)\n",
        "alpha <- 2\n",
        "beta <- 2\n",
        "\n",
        "## data (likelhood): y|theta ~ Binomial(n, theta)\n",
        "## n: number of trials\n",
        "## y : number of successes\n",
        "## n - y : number of failures\n",
        "##\n",
        "n <- 5\n",
        "y <- 1\n",
        "\n",
        "## posterior: theta|y ~ Beta(y + alpha, n - y + beta)\n",
        "new_alpha <- y + alpha\n",
        "new_beta <- n - y + beta\n",
        "\n",
        "\n",
        "par(mfrow=c(1,3))\n",
        "## draw prior probability density function\n",
        "curve(dbeta(x, alpha, beta), main='Prior', ylab=\"Probability Density\", xlab='theta')\n",
        "\n",
        "## draw likelihood function\n",
        "\n",
        "\n",
        "pgrid <- seq(0, 1, length.out=100)\n",
        "plot(pgrid, dbinom(y, size=n, prob=pgrid), type='l', main='Likelihood', ylab='Likelihood', xlab='theta')\n",
        "\n",
        "## Maximum Likelihood Estimator\n",
        "theta.mle <- y / n\n",
        "abline(v=theta.mle, col='red')\n",
        "mtext(paste('MLE =', theta.mle), font=2, cex=0.8)\n",
        "\n",
        "\n",
        "## draw posterior probability density function\n",
        "curve(dbeta(x, shape1=new_alpha, shape2=new_beta), main=\"Posterior\", ylab='Probability Density', xlab='theta')\n",
        "\n",
        "## Maximum A Posterior Estimator\n",
        "theta.map <- (y + alpha - 1)/ (n + alpha + beta - 2)\n",
        "abline(v=theta.map, col='red')\n",
        "mtext(paste('MAP = ', round(theta.map, 3)), font=2, cex=0.8)\n"
      ],
      "execution_count": null,
      "outputs": [
        {
          "output_type": "stream",
          "text": [
            "png \n",
            "  2 \n"
          ],
          "name": "stdout"
        }
      ]
    },
    {
      "cell_type": "markdown",
      "metadata": {
        "id": "SOA2Q60mzVIu"
      },
      "source": [
        "## Figure 2.5 (p. 30)"
      ]
    },
    {
      "cell_type": "code",
      "metadata": {
        "colab": {
          "base_uri": "https://localhost:8080/",
          "height": 497
        },
        "id": "X3rmw6wkeRdj",
        "outputId": "52d7f838-56cc-469e-fce6-50f618159254"
      },
      "source": [
        "%%R\n",
        "\n",
        "## W: 1, L: 0\n",
        "x <- c(1, 0, 1, 1, 1, 0, 1, 0, 1)  \n",
        "alpha <- 1\n",
        "beta <- 1\n",
        "\n",
        "pgrid <- seq(0, 1, length.out=100)\n",
        "prev_dens <- dbeta(pgrid, alpha, beta)\n",
        "par(mfrow=c(3, 3))\n",
        "for(i in 1:length(x)) {\n",
        "    n <- i\n",
        "    y <- sum(x[1:i])\n",
        "    dens <- dbeta(pgrid, y + alpha, n - y + beta)\n",
        "    plot(pgrid, prev_dens, ylim=c(0, 3), type='l', lty=3)\n",
        "    lines(pgrid, dens)\n",
        "    prev_dens <- dens\n",
        "\n",
        "}\n"
      ],
      "execution_count": null,
      "outputs": [
        {
          "output_type": "display_data",
          "data": {
            "image/png": "[encoded data removed]"
          },
          "metadata": {
            "tags": []
          }
        }
      ]
    },
    {
      "cell_type": "markdown",
      "metadata": {
        "id": "R58-5T7v1LxZ"
      },
      "source": [
        "## Figure 2.6 (p. 38)\n",
        "\n",
        "이 그림에서 $y$축에 수치를 표시하지 않고 있다는 점에 주의하세요. 사전분포(prior), 가능도(likelihood), 사후분포(posterior)의 그래프에서 $y$축의 값은 모두 다릅니다. 모양만 보기 위해서 $y$축에 수치를 표시하지 않은 것입니다. 특히 사후분포의 경우에 사용된 R code는 정확히 사후분포를 그리는 것이 아닙니다. 모양만 사후분포와 동일하고 $y$축의 값은 다릅니다. "
      ]
    },
    {
      "cell_type": "code",
      "metadata": {
        "colab": {
          "base_uri": "https://localhost:8080/",
          "height": 497
        },
        "id": "rGINptGz1QcS",
        "outputId": "85ea66f6-3b23-4472-8c61-488ee20f4f9c"
      },
      "source": [
        "%%R\n",
        "\n",
        "n <- 10\n",
        "y <- 6\n",
        "\n",
        "pgrid <- seq(0, 1, length.out=100)\n",
        "\n",
        "prior <- list(\n",
        "    function(theta) ifelse(0 <= theta & theta <= 1, 1, 0),\n",
        "    function(theta) ifelse(0.5 < theta & theta <= 1, 1, 0),\n",
        "    function(theta) ifelse(0 <= theta & theta < 0.5, 12*theta^2,  12*(theta-1)^2)\n",
        ")\n",
        "likelihood <- function(theta) dbinom(y, size=n, prob=theta)\n",
        "\n",
        "\n",
        "\n",
        "par(mfrow=c(3, 3), xlab='', ylab='', yaxt='n')\n",
        "for (i in 1:length(prior)) {\n",
        "  plot(pgrid, prior[[i]](pgrid), type='l', main='Prior', xlab='', ylab='', yaxt='n')\n",
        "  plot(pgrid, likelihood(pgrid), type='l', main='Likelihood',  xlab='', ylab='', yaxt='n')\n",
        "  plot(pgrid, prior[[i]](pgrid)*likelihood(pgrid), type='l', main='Posterior',  xlab='', ylab='', yaxt='n')\n",
        "}\n"
      ],
      "execution_count": null,
      "outputs": [
        {
          "output_type": "display_data",
          "data": {
            "image/png": "[encoded data removed]"
          },
          "metadata": {
            "tags": []
          }
        }
      ]
    },
    {
      "cell_type": "markdown",
      "metadata": {
        "id": "bOG0E40Y7dB0"
      },
      "source": [
        "## Likelihood\n",
        "\n",
        "Binomial pdf: function of $y$ (number of successes), given $n$ (number of trials) and $p$ (probability of success)\n",
        "\n",
        "```r\n",
        "dbinom(y, size=10, prob=0.5)\n",
        "```\n",
        "\n",
        "Likelihood: function of $p$, given $n$ and $y$\n",
        "\n",
        "```\n",
        "dbinom(6, size=10, prob=p)\n",
        "```\n",
        "\n"
      ]
    },
    {
      "cell_type": "code",
      "metadata": {
        "colab": {
          "base_uri": "https://localhost:8080/",
          "height": 977
        },
        "id": "H_2NTyzKg9DI",
        "outputId": "e30f97fd-43f5-469c-aba6-7e80c5738b65"
      },
      "source": [
        "%%R\n",
        "n <- 10\n",
        "y <- 6\n",
        "\n",
        "## binomial probability function (pdf, pmf)\n",
        "plot(0:10, dbinom(0:10, size=10, prob=0.6), type='h', ylab='Probaility', xlab=\"y\", main=\"Probability\")\n",
        "\n",
        "## likelihood\n",
        "pgrid <- seq(0, 1, length.out=100)\n",
        "plot(pgrid, dbinom(6, size=10, prob=pgrid), type='l', ylab='Likelihood', xlab=\"p\", main=\"Likelihood\")\n",
        "\n",
        "\n"
      ],
      "execution_count": null,
      "outputs": [
        {
          "output_type": "display_data",
          "data": {
            "image/png": "[encoded data removed]"
          },
          "metadata": {
            "tags": []
          }
        },
        {
          "output_type": "display_data",
          "data": {
            "image/png": "[encoded data removed]"
          },
          "metadata": {
            "tags": []
          }
        }
      ]
    },
    {
      "cell_type": "markdown",
      "metadata": {
        "id": "7BLH-UdG0qvy"
      },
      "source": [
        "### Math\n",
        "\n",
        "\\begin{align*}\n",
        "p(\\theta) &= \\frac{1}{B(\\alpha,\\beta)} \\theta^{\\alpha-1}(1-\\theta)^{\\beta-1}, &\\theta &\\sim \\textit{Beta}(\\alpha,\\beta)\\\\\n",
        "p(y|\\theta) &= \\binom{n}{y}\\theta^y (1-\\theta)^{n-y} & y|\\theta &\\sim \\textit{Binomial}(n, \\theta)\\\\\n",
        "p(\\theta|y) &\\propto p(\\theta)p(y|\\theta)\\\\\n",
        "&\\propto \\theta^{y+\\alpha-1}(1-\\theta)^{n-y+\\beta-1},  &\\theta|y &\\sim \\textit{Beta}(y+\\alpha, n-y+\\beta)\n",
        "\\end{align*}\n",
        "\n"
      ]
    },
    {
      "cell_type": "code",
      "metadata": {
        "id": "2_l42cL3ezvn"
      },
      "source": [
        ""
      ],
      "execution_count": null,
      "outputs": []
    }
  ]
}